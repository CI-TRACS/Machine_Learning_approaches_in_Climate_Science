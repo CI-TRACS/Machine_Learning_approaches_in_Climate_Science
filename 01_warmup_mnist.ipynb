{
  "cells": [
    {
      "cell_type": "markdown",
      "metadata": {
        "id": "view-in-github",
        "colab_type": "text"
      },
      "source": [
        "<a href=\"https://colab.research.google.com/github/CI-TRACS/Machine_Learning_approaches_in_Climate_Science/blob/main/01_warmup_mnist.ipynb\" target=\"_parent\"><img src=\"https://colab.research.google.com/assets/colab-badge.svg\" alt=\"Open In Colab\"/></a>"
      ]
    },
    {
      "cell_type": "markdown",
      "metadata": {
        "id": "IuiF_2Cy6XGg"
      },
      "source": [
        "# Getting familiar with deep learning with image data"
      ]
    },
    {
      "cell_type": "markdown",
      "metadata": {
        "id": "x078L4OG6XGi"
      },
      "source": [
        "## Import libraries"
      ]
    },
    {
      "cell_type": "code",
      "execution_count": 1,
      "metadata": {
        "id": "kRNxH9eY6XGj"
      },
      "outputs": [],
      "source": [
        "import matplotlib.pyplot as plt\n",
        "import torch\n",
        "import torch.nn as nn\n",
        "from torch.utils.data import DataLoader\n",
        "from torchvision import datasets\n",
        "from torchvision.transforms import ToTensor"
      ]
    },
    {
      "cell_type": "markdown",
      "metadata": {
        "id": "7QlzaNuW6XGk"
      },
      "source": [
        "## Select a device"
      ]
    },
    {
      "cell_type": "code",
      "execution_count": 2,
      "metadata": {
        "id": "j6_T80Jr6XGl",
        "colab": {
          "base_uri": "https://localhost:8080/"
        },
        "outputId": "df3361ff-85cb-48ec-fac0-d7652ec1a979"
      },
      "outputs": [
        {
          "output_type": "execute_result",
          "data": {
            "text/plain": [
              "device(type='cpu')"
            ]
          },
          "metadata": {},
          "execution_count": 2
        }
      ],
      "source": [
        "torch.device(\n",
        "    \"cuda\"\n",
        "    if torch.cuda.is_available()\n",
        "    else \"mps\"\n",
        "    if torch.backends.mps.is_available()\n",
        "    else \"cpu\"\n",
        ")"
      ]
    },
    {
      "cell_type": "markdown",
      "metadata": {
        "id": "MOmcoTLm6XGl"
      },
      "source": [
        "## Download the MNIST dataset"
      ]
    },
    {
      "cell_type": "code",
      "execution_count": 3,
      "metadata": {
        "id": "ScL7a4LO6XGl",
        "colab": {
          "base_uri": "https://localhost:8080/"
        },
        "outputId": "766b3364-67a1-4e09-d70e-58009c1919ed"
      },
      "outputs": [
        {
          "output_type": "stream",
          "name": "stderr",
          "text": [
            "100%|██████████| 9.91M/9.91M [00:00<00:00, 17.8MB/s]\n",
            "100%|██████████| 28.9k/28.9k [00:00<00:00, 481kB/s]\n",
            "100%|██████████| 1.65M/1.65M [00:00<00:00, 4.46MB/s]\n",
            "100%|██████████| 4.54k/4.54k [00:00<00:00, 4.97MB/s]\n"
          ]
        }
      ],
      "source": [
        "train_data = datasets.MNIST(\n",
        "    root=\"data\",\n",
        "    train=True,\n",
        "    download=True,\n",
        "    transform=ToTensor(),\n",
        ")\n",
        "\n",
        "test_data = datasets.MNIST(\n",
        "    root=\"data\",\n",
        "    train=False,\n",
        "    download=True,\n",
        "    transform=ToTensor(),\n",
        ")"
      ]
    },
    {
      "cell_type": "code",
      "execution_count": 4,
      "metadata": {
        "id": "UKpfPfgU6XGm",
        "colab": {
          "base_uri": "https://localhost:8080/"
        },
        "outputId": "907506ef-ca2a-44ba-d225-e9e7d66c5469"
      },
      "outputs": [
        {
          "output_type": "stream",
          "name": "stdout",
          "text": [
            "Train data:\n",
            " Dataset MNIST\n",
            "    Number of datapoints: 60000\n",
            "    Root location: data\n",
            "    Split: Train\n",
            "    StandardTransform\n",
            "Transform: ToTensor()\n",
            "\n",
            "Test data:\n",
            " Dataset MNIST\n",
            "    Number of datapoints: 10000\n",
            "    Root location: data\n",
            "    Split: Test\n",
            "    StandardTransform\n",
            "Transform: ToTensor()\n"
          ]
        }
      ],
      "source": [
        "print(\"Train data:\\n\", train_data)\n",
        "print(\"\\nTest data:\\n\", test_data)"
      ]
    },
    {
      "cell_type": "code",
      "execution_count": 5,
      "metadata": {
        "id": "a4qJ7H2V6XGm",
        "colab": {
          "base_uri": "https://localhost:8080/",
          "height": 675
        },
        "outputId": "c5b03efe-85a1-46a1-9031-b1db8eff489a"
      },
      "outputs": [
        {
          "output_type": "display_data",
          "data": {
            "text/plain": [
              "<Figure size 800x800 with 16 Axes>"
            ],
            "image/png": "[encoded data removed]"
          },
          "metadata": {}
        }
      ],
      "source": [
        "figure = plt.figure(figsize=(8, 8))\n",
        "cols, rows = 4, 4\n",
        "for i in range(1, cols * rows + 1):\n",
        "    sample_idx = torch.randint(len(train_data), size=(1,)).item()\n",
        "    img, label = train_data[sample_idx]\n",
        "    figure.add_subplot(rows, cols, i)\n",
        "    plt.title(f\"Label: {label}\")\n",
        "    plt.axis(\"off\")\n",
        "    plt.imshow(img.squeeze(), cmap=\"gray\")\n",
        "plt.show()"
      ]
    },
    {
      "cell_type": "markdown",
      "metadata": {
        "id": "Zrqhgk5l6XGm"
      },
      "source": [
        "## Prepare the data for training"
      ]
    },
    {
      "cell_type": "code",
      "execution_count": 6,
      "metadata": {
        "id": "kdXhTDb96XGn"
      },
      "outputs": [],
      "source": [
        "train_dataloader = DataLoader(train_data, batch_size=64, shuffle=True)\n",
        "test_dataloader = DataLoader(test_data, batch_size=64, shuffle=True)"
      ]
    },
    {
      "cell_type": "markdown",
      "metadata": {
        "id": "rBIsA2QZ6XGn"
      },
      "source": [
        "## Define the model"
      ]
    },
    {
      "cell_type": "code",
      "execution_count": 7,
      "metadata": {
        "id": "dLyqtuXl6XGn"
      },
      "outputs": [],
      "source": [
        "class CNN(nn.Module):\n",
        "    def __init__(self):\n",
        "        super().__init__()\n",
        "        self.conv1 = nn.Conv2d(in_channels=1, out_channels=8, kernel_size=3)\n",
        "        self.pool = nn.MaxPool2d(kernel_size=2)\n",
        "        self.conv2 = nn.Conv2d(in_channels=8, out_channels=16, kernel_size=3)\n",
        "        self.fc1 = nn.Linear(in_features=16 * 5 * 5, out_features=128)\n",
        "        self.fc2 = nn.Linear(in_features=128, out_features=10)\n",
        "\n",
        "    def forward(self, x):\n",
        "        x = self.pool(torch.relu(self.conv1(x)))\n",
        "        x = self.pool(torch.relu(self.conv2(x)))\n",
        "        x = torch.flatten(x, 1)\n",
        "        x = torch.relu(self.fc1(x))\n",
        "        x = self.fc2(x)\n",
        "        return x"
      ]
    },
    {
      "cell_type": "code",
      "execution_count": 8,
      "metadata": {
        "id": "Pv_36YAi6XGn",
        "colab": {
          "base_uri": "https://localhost:8080/"
        },
        "outputId": "7670e42f-e729-44b5-e9f6-394174c448af"
      },
      "outputs": [
        {
          "output_type": "stream",
          "name": "stdout",
          "text": [
            "CNN(\n",
            "  (conv1): Conv2d(1, 8, kernel_size=(3, 3), stride=(1, 1))\n",
            "  (pool): MaxPool2d(kernel_size=2, stride=2, padding=0, dilation=1, ceil_mode=False)\n",
            "  (conv2): Conv2d(8, 16, kernel_size=(3, 3), stride=(1, 1))\n",
            "  (fc1): Linear(in_features=400, out_features=128, bias=True)\n",
            "  (fc2): Linear(in_features=128, out_features=10, bias=True)\n",
            ")\n"
          ]
        }
      ],
      "source": [
        "model = CNN()\n",
        "print(model)"
      ]
    },
    {
      "cell_type": "markdown",
      "metadata": {
        "id": "AsDncYks6XGn"
      },
      "source": [
        "## Train the model"
      ]
    },
    {
      "cell_type": "code",
      "execution_count": 9,
      "metadata": {
        "id": "edIWrVRc6XGn"
      },
      "outputs": [],
      "source": [
        "loss_fn = nn.CrossEntropyLoss()\n",
        "optimizer = torch.optim.Adam(model.parameters(), lr=0.001)"
      ]
    },
    {
      "cell_type": "code",
      "execution_count": 10,
      "metadata": {
        "id": "YtWxT4DD6XGo",
        "colab": {
          "base_uri": "https://localhost:8080/"
        },
        "outputId": "8f3a39ae-4e10-4efc-c911-0564f10fafae"
      },
      "outputs": [
        {
          "output_type": "stream",
          "name": "stdout",
          "text": [
            "Epoch: 0, Batch: 0, Loss: 2.2942605018615723\n",
            "Epoch: 0, Batch: 400, Loss: 0.18772928416728973\n",
            "Epoch: 0, Batch: 800, Loss: 0.11634880304336548\n",
            "Epoch: 1, Batch: 0, Loss: 0.021963728591799736\n",
            "Epoch: 1, Batch: 400, Loss: 0.04271923378109932\n",
            "Epoch: 1, Batch: 800, Loss: 0.048685021698474884\n",
            "Epoch: 2, Batch: 0, Loss: 0.028751850128173828\n",
            "Epoch: 2, Batch: 400, Loss: 0.05649007111787796\n",
            "Epoch: 2, Batch: 800, Loss: 0.033523689955472946\n",
            "Epoch: 3, Batch: 0, Loss: 0.02706812508404255\n",
            "Epoch: 3, Batch: 400, Loss: 0.02840646356344223\n",
            "Epoch: 3, Batch: 800, Loss: 0.02187121845781803\n",
            "Epoch: 4, Batch: 0, Loss: 0.055217765271663666\n",
            "Epoch: 4, Batch: 400, Loss: 0.061094772070646286\n",
            "Epoch: 4, Batch: 800, Loss: 0.005043843761086464\n",
            "Epoch: 5, Batch: 0, Loss: 0.005016325507313013\n",
            "Epoch: 5, Batch: 400, Loss: 0.025660142302513123\n",
            "Epoch: 5, Batch: 800, Loss: 0.022547749802470207\n",
            "Epoch: 6, Batch: 0, Loss: 0.0009554220596328378\n",
            "Epoch: 6, Batch: 400, Loss: 0.002007735427469015\n",
            "Epoch: 6, Batch: 800, Loss: 0.04874207451939583\n",
            "Epoch: 7, Batch: 0, Loss: 0.007592767011374235\n",
            "Epoch: 7, Batch: 400, Loss: 0.012925461865961552\n",
            "Epoch: 7, Batch: 800, Loss: 0.0031237059738487005\n",
            "Epoch: 8, Batch: 0, Loss: 0.023186219856142998\n",
            "Epoch: 8, Batch: 400, Loss: 0.0005692751728929579\n",
            "Epoch: 8, Batch: 800, Loss: 0.0071398294530808926\n",
            "Epoch: 9, Batch: 0, Loss: 0.01404079794883728\n",
            "Epoch: 9, Batch: 400, Loss: 0.001464171684347093\n",
            "Epoch: 9, Batch: 800, Loss: 0.0025139078497886658\n"
          ]
        }
      ],
      "source": [
        "# train\n",
        "epochs = 10\n",
        "train_loss = []\n",
        "\n",
        "for epoch in range(epochs):\n",
        "    epoch_loss = []\n",
        "\n",
        "    # set the model in training phase\n",
        "    model.train()\n",
        "\n",
        "    for batch_idx, (data, target) in enumerate(train_dataloader):\n",
        "        # zero the parameter gradients\n",
        "        # this is because the gradients are accumulated\n",
        "        # so we need to zero them out at each iteration\n",
        "        optimizer.zero_grad()\n",
        "\n",
        "        # forward + backward + optimize\n",
        "        output = model(data)\n",
        "        loss = loss_fn(output, target)\n",
        "\n",
        "        # we save the epoch loss to plot it later\n",
        "        # it is multiplied by the batch size to account for the fact that\n",
        "        # the loss is averaged over the batch\n",
        "        epoch_loss.append(loss.item() * data.size(0))\n",
        "\n",
        "        loss.backward()\n",
        "        optimizer.step()\n",
        "\n",
        "        # print statistics\n",
        "        if batch_idx % 400 == 0:\n",
        "            print(f\"Epoch: {epoch}, Batch: {batch_idx}, Loss: {loss.item()}\")\n",
        "    train_loss.append(sum(epoch_loss) / len(train_data))"
      ]
    },
    {
      "cell_type": "code",
      "execution_count": 11,
      "metadata": {
        "id": "V3T7Ynz36XGo",
        "colab": {
          "base_uri": "https://localhost:8080/",
          "height": 472
        },
        "outputId": "4932170c-5717-45ce-f5a7-393ab7809e87"
      },
      "outputs": [
        {
          "output_type": "display_data",
          "data": {
            "text/plain": [
              "<Figure size 640x480 with 1 Axes>"
            ],
            "image/png": "[encoded data removed]"
          },
          "metadata": {}
        }
      ],
      "source": [
        "plt.plot(train_loss)\n",
        "plt.title(\"Training Loss\")\n",
        "plt.xlabel(\"Epoch\")\n",
        "plt.ylabel(\"Loss\")\n",
        "plt.show()"
      ]
    },
    {
      "cell_type": "markdown",
      "metadata": {
        "id": "Vi_8O_rk6XGo"
      },
      "source": [
        "## Evaluate the model"
      ]
    },
    {
      "cell_type": "code",
      "execution_count": 12,
      "metadata": {
        "id": "ur5H3j7Q6XGo",
        "colab": {
          "base_uri": "https://localhost:8080/"
        },
        "outputId": "4dc356cc-db16-4297-91a7-be4f9da73718"
      },
      "outputs": [
        {
          "output_type": "stream",
          "name": "stdout",
          "text": [
            "Test Loss: 0.03777303007757291\n",
            "Test Accuracy: 98.76%\n"
          ]
        }
      ],
      "source": [
        "# set model to evaluation mode\n",
        "model.eval()\n",
        "\n",
        "# variables to keep track of accuracy\n",
        "test_loss = []\n",
        "correct = 0\n",
        "total = 0\n",
        "\n",
        "# we don't need to compute gradients for the test set\n",
        "with torch.no_grad():\n",
        "    for data, target in test_dataloader:\n",
        "        output = model(data)\n",
        "        loss = loss_fn(output, target)\n",
        "        test_loss.append(loss.item() * data.size(0))\n",
        "        _, predicted = torch.max(output.data, 1)\n",
        "        total += target.size(0)\n",
        "        correct += (predicted == target).sum().item()\n",
        "\n",
        "print(f\"Test Loss: {sum(test_loss) / len(test_data)}\")\n",
        "print(f\"Test Accuracy: {100 * correct / total}%\")"
      ]
    },
    {
      "cell_type": "code",
      "execution_count": 13,
      "metadata": {
        "id": "_6o6i6Bq6XGo",
        "colab": {
          "base_uri": "https://localhost:8080/",
          "height": 675
        },
        "outputId": "ba924e10-9151-465e-c3fb-d7388bbb38f4"
      },
      "outputs": [
        {
          "output_type": "display_data",
          "data": {
            "text/plain": [
              "<Figure size 800x800 with 9 Axes>"
            ],
            "image/png": "[encoded data removed]"
          },
          "metadata": {}
        }
      ],
      "source": [
        "fig, ax = plt.subplots(3, 3, figsize=(8, 8))\n",
        "for i in range(3):\n",
        "    for j in range(3):\n",
        "        sample_idx = torch.randint(len(test_data), size=(1,)).item()\n",
        "        img, label = test_data[sample_idx]\n",
        "        output = model(img.unsqueeze(0))\n",
        "        _, predicted = torch.max(output.data, 1)\n",
        "        ax[i, j].imshow(img.squeeze(), cmap=\"gray\")\n",
        "        ax[i, j].set_title(f\"Predicted: {predicted.item()}, True: {label}\")\n",
        "        ax[i, j].axis(\"off\")\n",
        "plt.show()"
      ]
    }
  ],
  "metadata": {
    "kernelspec": {
      "display_name": "pangeo",
      "language": "python",
      "name": "python3"
    },
    "language_info": {
      "codemirror_mode": {
        "name": "ipython",
        "version": 3
      },
      "file_extension": ".py",
      "mimetype": "text/x-python",
      "name": "python",
      "nbconvert_exporter": "python",
      "pygments_lexer": "ipython3",
      "version": "3.11.4"
    },
    "colab": {
      "provenance": [],
      "include_colab_link": true
    }
  },
  "nbformat": 4,
  "nbformat_minor": 0
}